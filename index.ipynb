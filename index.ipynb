{
  "cells": [
    {
      "cell_type": "markdown",
      "metadata": {
        "id": "-ebPqV8Hg5Zu"
      },
      "source": [
        "# Using Colab"
      ]
    },
    {
      "cell_type": "markdown",
      "metadata": {
        "id": "-Dxtqhlfg5Zx"
      },
      "source": [
        "## Introduction"
      ]
    },
    {
      "cell_type": "markdown",
      "source": [
        "<img src=\"https://curriculum-content.s3.amazonaws.com/data-science/images/colab.png/colab.png\" width=100 alt=\"Colab 'CO' symbol\">"
      ],
      "metadata": {
        "id": "92jGIDa4LTR0"
      }
    },
    {
      "cell_type": "markdown",
      "source": [
        "[Google's Colaboratory](https://colab.research.google.com/) is a hosted Jupyter notebook service that requires no setup to use, while providing access free of charge to computing resources. Colaboratory is commonly called *Colab* and is what you will be using to run Python code during Prep. This [Colab FAQ](https://research.google.com/colaboratory/faq.html) is helpful general resource."
      ],
      "metadata": {
        "id": "iFVH1HcWLy0g"
      }
    },
    {
      "cell_type": "markdown",
      "metadata": {
        "id": "hq7G_jcrg5Zx"
      },
      "source": [
        "## Objectives\n",
        "\n",
        "You will be able to:\n",
        "\n",
        "* Open up a Colab notebook\n",
        "* Download data from Canvas\n",
        "* Upload the data to a Colab notebook\n"
      ]
    },
    {
      "cell_type": "markdown",
      "metadata": {
        "id": "gjfpTPPYg5Zy"
      },
      "source": [
        "## Gmail account\n",
        "\n",
        "\n"
      ]
    },
    {
      "cell_type": "markdown",
      "source": [
        "In order to use Colab, you need a [Gmail account](https://support.google.com/mail/answer/56256?hl=en). You may use one you already have, or you can create a new one for this program. Like Colab, the Gmail account is free. It is also strongly suggested that you use [Google Chrome as your browser](https://www.google.com/chrome/dr/download) when using Colab.\n",
        "\n",
        "When you are using Colab make sure that you are logged into the appropriate Gmail account.\n",
        "\n"
      ],
      "metadata": {
        "id": "YWdCYRcalaXj"
      }
    },
    {
      "cell_type": "markdown",
      "metadata": {
        "id": "Xw2FyGR3g5Z0"
      },
      "source": [
        "## Getting to Colab"
      ]
    },
    {
      "cell_type": "markdown",
      "source": [
        "### Opening Colab from Canvas (when data is not needed)"
      ],
      "metadata": {
        "id": "Q877ml0gkVgB"
      }
    },
    {
      "cell_type": "markdown",
      "source": [
        "Note: While you may have seen some mention of Colab already, this page is dedicated to given further details on how it works.\n",
        "\n",
        "The first code lesson, and the ones that follow in Prep, will have the Google\n",
        "Colab \"Open in Colab\" button.\n",
        "\n",
        "<img src=\"https://curriculum-content.s3.amazonaws.com/data-science/images/OpenInColab.png/OpenInColab.png\" width=700 alt=\"shows what the 'Open in Colab' link looks like\">\n",
        "\n",
        "You'll click on the button to open the notebook for the given lesson or lab and it will open in a new tab.\n",
        "\n",
        "<img src=\"https://curriculum-content.s3.amazonaws.com/data-science/images/YourFirstJupyterNotebook.png/YourFirstJupyterNotebook.png\" width=700 alt=\"Shows what the first notebook will look like\">\n",
        "\n",
        "Once you do that, you can start working inside of the notebook."
      ],
      "metadata": {
        "id": "2SDVUxVYkxWz"
      }
    },
    {
      "cell_type": "markdown",
      "source": [
        "### Opening Colab from Canvas (when data is needed)"
      ],
      "metadata": {
        "id": "Mfcq0R2pkgo1"
      }
    },
    {
      "cell_type": "markdown",
      "source": [
        "Sometimes one needs to upload data to Colab after opening Colab. Between the bulleted *objectives* and the Colab icon, there will be a hyperlink that states: **Download the data for this notebook**.\n",
        "\n"
      ],
      "metadata": {
        "id": "5EqNnfw0GcwO"
      }
    },
    {
      "cell_type": "markdown",
      "source": [
        "#### Demonstration\n",
        "\n",
        "For example, with the following lab:\n",
        "\n",
        "\n",
        "1.   Download the data to a known location on your computer or cloud\n",
        "\n",
        "<img src=\"https://curriculum-content.s3.amazonaws.com/data-science/images/OpeninColabData.png/OpeninColabData.png\" width=700 alt=\"Download the data for this notebook\">\n",
        "\n",
        "2.   Click on the Colab icon to open the notebook in Colab\n",
        "\n",
        "3.   On the left toolbar of Colab, click on the folder icon\n",
        "\n",
        "<img src=\"https://curriculum-content.s3.amazonaws.com/data-science/images/UploadData01.png/UploadData01.png\" width=700 alt=\"Red arrow points at the folder icon\">\n",
        "\n",
        "4.   When the icon is clicked, a pane will open up where data can be uploaded\n",
        "\n",
        "<img src=\"https://curriculum-content.s3.amazonaws.com/data-science/images/UploadData02.png/UploadData02.png\" width=700 alt=\"The left pane where the data is placed is shown\">\n",
        "\n",
        "5.   Drop the data into the pane from where you have the data stored and you'll get a warning that the data will be deleted from the runtime is terminated; the data is still safe where you have saved it and the notebook file itself will save\n",
        "\n",
        "<img src=\"https://curriculum-content.s3.amazonaws.com/data-science/images/UploadData03.png/UploadData03.png\" width=700 alt=\"Warning regarding the data and the runtime\">\n",
        "\n",
        "6.   Click \"OK\" to acknowledge the warning, which merely means that each time you use the notebook you have to re-upload the data, and you can clearly see the data in the left pane\n",
        "\n",
        "<img src=\"https://curriculum-content.s3.amazonaws.com/data-science/images/UploadData04.png/UploadData04.png\" width=700 alt=\"Red arrow points at the data file in the left pane\">\n",
        "\n",
        "At this point, you can code in the notebook and the data will be available when needed."
      ],
      "metadata": {
        "id": "tMBF5rTJIyOP"
      }
    },
    {
      "cell_type": "markdown",
      "metadata": {
        "id": "ybtdvLhSg5Z1"
      },
      "source": [
        "### Getting to Colab directly"
      ]
    },
    {
      "cell_type": "markdown",
      "source": [
        "One can get to Colab directly if one already has a python notebook to upload, wants to create a new one from scratch, etc.\n",
        "\n",
        "To that one simply go to [Colab](https://colab.research.google.com/) within Chrome."
      ],
      "metadata": {
        "id": "8wY5k9QkJ6DL"
      }
    },
    {
      "cell_type": "markdown",
      "metadata": {
        "id": "02NIHkZ3g5Z1"
      },
      "source": [
        "## Summary\n",
        "\n",
        "Colab is a wonderful data science tool and you have now been introduced to it."
      ]
    }
  ],
  "metadata": {
    "kernelspec": {
      "display_name": "Python 3 (ipykernel)",
      "language": "python",
      "name": "python3"
    },
    "language_info": {
      "codemirror_mode": {
        "name": "ipython",
        "version": 3
      },
      "file_extension": ".py",
      "mimetype": "text/x-python",
      "name": "python",
      "nbconvert_exporter": "python",
      "pygments_lexer": "ipython3",
      "version": "3.10.5"
    },
    "colab": {
      "provenance": [],
      "collapsed_sections": [
        "Q877ml0gkVgB"
      ]
    }
  },
  "nbformat": 4,
  "nbformat_minor": 0
}
